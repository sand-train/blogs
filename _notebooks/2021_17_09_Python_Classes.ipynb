{
  "nbformat": 4,
  "nbformat_minor": 2,
  "metadata": {
    "colab": {
      "name": "Python Classes.ipynb",
      "provenance": [],
      "collapsed_sections": []
    },
    "kernelspec": {
      "name": "python3",
      "display_name": "Python 3.9.6 64-bit ('ml-starter': conda)"
    },
    "language_info": {
      "name": "python",
      "version": "3.9.6",
      "mimetype": "text/x-python",
      "codemirror_mode": {
        "name": "ipython",
        "version": 3
      },
      "pygments_lexer": "ipython3",
      "nbconvert_exporter": "python",
      "file_extension": ".py"
    },
    "interpreter": {
      "hash": "dd506e134720d45d61c3dcad429eb610d09f511f5c0f98e5271d31e41eb34004"
    }
  },
  "cells": [
    {
      "cell_type": "markdown",
      "source": [
        "# Python classes\n",
        "\n",
        "> A quick look into Python classes\n",
        "- author: Sandra\n",
        "- toc: true\n",
        "<!-- - image: images/art/bear_01.jpg -->\n",
        "<!-- - comments: true -->\n",
        "- categories: python\n",
        "- permalink: /python/\n",
        "- badges: true"
      ],
      "metadata": {
        "id": "j7kvEbVvVP1X"
      }
    },
    {
      "cell_type": "code",
      "execution_count": 29,
      "source": [
        "class Example:\n",
        "    # default constructor\n",
        "    def __init__(self, n, m):\n",
        "      '''Example of a Python class with three parameters, including self.\n",
        "      Arguments map to n and m.''' \n",
        "\n",
        "      print(\"Address of self = \",id(self))\n",
        "      self.name = n\n",
        "      self.mood = m\n",
        "\n",
        "    def say(self,x): \n",
        "      '''Method of the class Example with two parameters, including self. \n",
        "        Note that this method only takes one argument mapping to x.'''\n",
        "        \n",
        "      self.instance_attribute = x\n",
        "      return f'Hello {self.name}, {x}! This is {self.mood}!'"
      ],
      "outputs": [],
      "metadata": {
        "id": "-YBbFWjTVOPx"
      }
    },
    {
      "cell_type": "markdown",
      "source": [
        "## Instance of a class\n",
        "We invoke any class's instance-making function by using the name of the class as a function. In our case, the name of our class is `Example`, so the name of the instance-creation function is `Example()`.\n",
        "\n",
        "`ex` is an instance of the class `Example`:"
      ],
      "metadata": {
        "id": "vszqEdbrlfgL"
      }
    },
    {
      "cell_type": "code",
      "execution_count": 26,
      "source": [
        "ex = Example('Sandra', 'Exciting')\n",
        "print(ex.say(\"let's learn about classes\"))"
      ],
      "outputs": [
        {
          "output_type": "stream",
          "name": "stdout",
          "text": [
            "Hello Sandra, let's learn about classes! This is Exciting!\n"
          ]
        }
      ],
      "metadata": {
        "colab": {
          "base_uri": "https://localhost:8080/"
        },
        "id": "SIpkHTsPYuTA",
        "outputId": "fa2058ce-68c3-4035-bbb7-a7f3c15e558a"
      }
    },
    {
      "cell_type": "markdown",
      "source": [
        "## Attributes of a class\n",
        "Let's list the attributes of the class by using `dir(my_instance)`.  \n",
        "Python uses the word attribute to indicate both the methods of an object and the names of any values stored in an object. An attribute is a name associated with another object.   \n",
        "Note that a class is also an object."
      ],
      "metadata": {
        "id": "HZGHEkAzj4LF"
      }
    },
    {
      "cell_type": "code",
      "execution_count": 21,
      "source": [
        "dir(ex)"
      ],
      "outputs": [
        {
          "output_type": "execute_result",
          "data": {
            "text/plain": [
              "['__class__',\n",
              " '__delattr__',\n",
              " '__dict__',\n",
              " '__dir__',\n",
              " '__doc__',\n",
              " '__eq__',\n",
              " '__format__',\n",
              " '__ge__',\n",
              " '__getattribute__',\n",
              " '__gt__',\n",
              " '__hash__',\n",
              " '__init__',\n",
              " '__init_subclass__',\n",
              " '__le__',\n",
              " '__lt__',\n",
              " '__module__',\n",
              " '__ne__',\n",
              " '__new__',\n",
              " '__reduce__',\n",
              " '__reduce_ex__',\n",
              " '__repr__',\n",
              " '__setattr__',\n",
              " '__sizeof__',\n",
              " '__str__',\n",
              " '__subclasshook__',\n",
              " '__weakref__',\n",
              " 'instance_attribute',\n",
              " 'mood',\n",
              " 'name',\n",
              " 'say']"
            ]
          },
          "metadata": {},
          "execution_count": 21
        }
      ],
      "metadata": {
        "colab": {
          "base_uri": "https://localhost:8080/"
        },
        "id": "erxD6heAbGRk",
        "outputId": "39f1b2b1-48cb-48d7-e8c0-972d6e498b45"
      }
    },
    {
      "cell_type": "markdown",
      "source": [
        "## A special argument: *self*\n",
        "It's odd that in our previous example of a class, we only passed one argument (a string); however, two parameters showed up in the definition of the method `self` and `x`. \n",
        "\n",
        "`self` is associated with the instance being made, that is the object that called the method. Python will automatically map the first parameter in a method definition to the object that called the method. \n",
        "\n",
        "In our previous example `ex` maps to `self`, while `\"let's learn about classes\"` maps to `x`. \n",
        "\n",
        "The `self` must always be placed as the first parameter in any method definition. \n",
        "\n",
        "We can also see that `self` has a new attribute called `instance_attribute`. Let us print this ro see that `say` assigns `x` to the `instance_attribute`."
      ],
      "metadata": {
        "id": "0TjpI4cQPNVg"
      }
    },
    {
      "cell_type": "code",
      "execution_count": 1,
      "source": [
        "print(\"Instance has new attribute with value: \",ex.instance_attribute)"
      ],
      "outputs": [
        {
          "output_type": "error",
          "ename": "NameError",
          "evalue": "name 'ex' is not defined",
          "traceback": [
            "\u001b[0;31m---------------------------------------------------------------------------\u001b[0m",
            "\u001b[0;31mNameError\u001b[0m                                 Traceback (most recent call last)",
            "\u001b[0;32m/var/folders/g_/1l894xhd10g6tj9857m75k8r0000gn/T/ipykernel_8614/2259833054.py\u001b[0m in \u001b[0;36m<module>\u001b[0;34m\u001b[0m\n\u001b[0;32m----> 1\u001b[0;31m \u001b[0mprint\u001b[0m\u001b[0;34m(\u001b[0m\u001b[0;34m\"Instance has new attribute with value: \"\u001b[0m\u001b[0;34m,\u001b[0m\u001b[0mex\u001b[0m\u001b[0;34m.\u001b[0m\u001b[0minstance_attribute\u001b[0m\u001b[0;34m)\u001b[0m\u001b[0;34m\u001b[0m\u001b[0;34m\u001b[0m\u001b[0m\n\u001b[0m",
            "\u001b[0;31mNameError\u001b[0m: name 'ex' is not defined"
          ]
        }
      ],
      "metadata": {
        "colab": {
          "base_uri": "https://localhost:8080/"
        },
        "id": "FSGTDjk8PQIk",
        "outputId": "e6b8b5b2-01a6-4bda-d159-de916f2ea3c6"
      }
    },
    {
      "cell_type": "markdown",
      "source": [
        "Finally, we can see in the code below that `self` and `my_instance` is referring to the same object. "
      ],
      "metadata": {
        "id": "ZUIjp-d-Utko"
      }
    },
    {
      "cell_type": "code",
      "execution_count": 34,
      "source": [
        "#it is clearly seen that self and obj is referring to the same object\n",
        "my_instance = Example('Sandra', 'Exciting')\n",
        "print(\"Address of class object = \",id(my_instance))"
      ],
      "outputs": [
        {
          "output_type": "stream",
          "name": "stdout",
          "text": [
            "Address of self =  140430184214032\n",
            "Address of class object =  140430184214032\n"
          ]
        }
      ],
      "metadata": {
        "colab": {
          "base_uri": "https://localhost:8080/"
        },
        "id": "YpxOF2gjUMtz",
        "outputId": "f686cf39-0226-4618-b99f-a555ca57431c"
      }
    },
    {
      "cell_type": "markdown",
      "source": [
        "## Classes we can re-use for ML\n",
        "\n",
        "https://scipython.com/book2/chapter-4-the-core-python-language-ii/examples/a-2d-vector-class/"
      ],
      "metadata": {
        "id": "tqri0DCrx5M0"
      }
    },
    {
      "cell_type": "markdown",
      "source": [
        "### Dot Product"
      ],
      "metadata": {
        "id": "UtUVqZ0a5Hqj"
      }
    },
    {
      "cell_type": "code",
      "execution_count": 4,
      "source": [
        "import numpy as np"
      ],
      "outputs": [],
      "metadata": {
        "id": "nFxf2fV24pDV"
      }
    },
    {
      "cell_type": "code",
      "execution_count": 5,
      "source": [
        "class Vec2D:\n",
        "    def __init__(self,x, y):\n",
        "      '''A 2-D vector with Cartesian coordinates.'''\n",
        "\n",
        "      self.x = x\n",
        "      self.y = y\n",
        "      print(x,y)\n",
        "\n",
        "    def dp(self, other):\n",
        "      '''Computes the dot product of two vectors with only 2-D Cartesian coordinates.'''\n",
        "      \n",
        "        # return self.x * other.x + self.y * other.y\n",
        "      return np.sum((self.x * other.x, self.y * other.y))"
      ],
      "outputs": [],
      "metadata": {
        "id": "7Au5ixL5ix5J"
      }
    },
    {
      "cell_type": "code",
      "execution_count": 6,
      "source": [
        "x = Vec2D(2,-3)\n",
        "y = Vec2D(4,5)\n",
        "dot_product = x.dp(y)\n",
        "print('vector1.dp(vector2) = ', dot_product)"
      ],
      "outputs": [
        {
          "output_type": "stream",
          "name": "stdout",
          "text": [
            "2 -3\n",
            "4 5\n",
            "vector1.dp(vector2) =  -7\n"
          ]
        }
      ],
      "metadata": {
        "colab": {
          "base_uri": "https://localhost:8080/"
        },
        "id": "bOnTLY_tyx-N",
        "outputId": "28f98305-44ff-481d-de59-cae8a8253cf5"
      }
    },
    {
      "cell_type": "code",
      "execution_count": 15,
      "source": [
        "class Vectors:\n",
        "  def __init__(self,a,b):\n",
        "    '''Takes two vectors of any length.'''\n",
        "\n",
        "    self.a = a\n",
        "    self.b = b \n",
        "    print(a,b)\n",
        "    \n",
        "  def dp(self):\n",
        "    '''Checks vectors are of equal length and computes dot product.'''\n",
        "    \n",
        "    try:\n",
        "      assert (len(a) == len(b)), f\"Vectors {a} and {b} are not of equal length.\"\n",
        "      return sum(x * y for x, y in zip(a,b)) # zip will lead to issues with dot products when vectors are not the same length\n",
        "    except AssertionError as msg:\n",
        "      print(msg)\n"
      ],
      "outputs": [],
      "metadata": {
        "id": "3zeaXNfdKydV"
      }
    },
    {
      "cell_type": "code",
      "execution_count": 18,
      "source": [
        "a = [1, 2, 3, 4]\n",
        "b = [0.5, 0.1, 0.2, 0.2]\n",
        "\n",
        "v = Vectors(a,b)\n",
        "dot_product = v.dp()\n",
        "print(dot_product)"
      ],
      "outputs": [
        {
          "output_type": "stream",
          "name": "stdout",
          "text": [
            "[1, 2, 3, 4] [0.5, 0.1, 0.2, 0.2]\n",
            "2.1\n"
          ]
        }
      ],
      "metadata": {
        "colab": {
          "base_uri": "https://localhost:8080/"
        },
        "id": "yQMXvLneLA5g",
        "outputId": "bf95990a-2af0-45d9-e0ea-c156aac5c27a"
      }
    }
  ]
}